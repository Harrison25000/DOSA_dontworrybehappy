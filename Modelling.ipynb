{
 "cells": [
  {
   "cell_type": "markdown",
   "metadata": {
    "colab_type": "text",
    "id": "view-in-github"
   },
   "source": [
    "<a href=\"https://colab.research.google.com/github/Harrison25000/DOSA_dontworrybehappy/blob/process/Copy_of_Datapreprocessing_1.ipynb\" target=\"_parent\"><img src=\"https://colab.research.google.com/assets/colab-badge.svg\" alt=\"Open In Colab\"/></a>"
   ]
  },
  {
   "cell_type": "markdown",
   "metadata": {
    "colab_type": "text",
    "id": "di_zPCyvenWf"
   },
   "source": [
    "# Facial Expression Recognition #\n",
    "***\n",
    "### Introduction###\n",
    "***\n",
    "\n",
    "This is a notebook which explores the FER dataset from the following kaggle competition: \n",
    "<br>\n",
    "<br>\n",
    "(https://www.kaggle.com/c/challenges-in-representation-learning-facial-expression-recognition-challenge/data).\n",
    "<br>\n",
    "<br>\n",
    "We attempt to use various machine-learning techniques to create a classification of the human, facial expressions provided by our labelled image data. Once a sufficiently accurate model has been trained, we will attempt to build an object-detection program that can classify expressions in real-time from a webcameras video data. \n",
    "<br> \n",
    "<br>\n",
    "This may or may not be later deployed as a web application!\n",
    "\n",
    "\n",
    "### Process ###\n",
    "***\n",
    "\n",
    "  1. **Import the csv data into a pandas dataframe**\n",
    "     <br>\n",
    "  \n",
    "  2. **Examine the data**\n",
    "     - Check data distribution across categories \n",
    "     - Check for null values in the data set \n",
    "     - Plot a random sample of images to check that the labelling aligns with the images \n",
    "     <br>\n",
    "     <br>\n",
    "  3. **Format and preprocess the image data** \n",
    "     - Convert raw pixel string to list \n",
    "     - Normalize the pixel values using sklearn's StandardScaler\n",
    "     - Reshape the data to 48x48 \n",
    "     <br>\n",
    "     <br>\n",
    "    \n",
    "  4. **Encode the labels using One-Hot Encoding** \n",
    "      - Our 7 categories of emotions were converted to 6 One-Hot Encoded labels \n",
    "          - The importance of using One-Hot Encoding is to ensure the model does not try to create inferences from the varying values of label data. \n",
    "          - The reason we used 6 dummy variables instead of the full 7 was to ensure that none of the explanatory variables in our model were, a priori, linearly dependent. This reduces the risk of multicollinearity in the model. \n",
    "     <br>\n",
    "     <br>\n",
    "     \n",
    "  5. **Split the dataset into a testing and training dataset**\n",
    "     <br>\n",
    "     <br>\n",
    "     \n",
    "  6. **Fit sklearn models to the dataset**\n",
    "     - Fine-Tune Hyper-parameters\n",
    "     <br>\n",
    "     <br>\n",
    "     \n",
    "  7. **Neural Network**\n",
    "     - Fine-Tune Hyper-parameters\n",
    "     <br>\n",
    "     <br>\n",
    "  8. **Object Reconition**\n",
    "     - Stretch Goal"
   ]
  },
  {
   "cell_type": "markdown",
   "metadata": {
    "colab_type": "text",
    "id": "MPgQyosUenWj"
   },
   "source": [
    "<br>\n",
    "<br>\n",
    "\n",
    "### The Code ###\n",
    "***\n",
    "\n",
    "##### Firstly we import the requsite libraries ####"
   ]
  },
  {
   "cell_type": "code",
   "execution_count": 1,
   "metadata": {
    "colab": {
     "base_uri": "https://localhost:8080/",
     "height": 34
    },
    "colab_type": "code",
    "id": "T_pju3KyenWn",
    "outputId": "39c710ef-5ea5-4e33-9b3f-d7814fe2072f"
   },
   "outputs": [
    {
     "ename": "ModuleNotFoundError",
     "evalue": "No module named 'seaborn'",
     "output_type": "error",
     "traceback": [
      "\u001b[0;31m---------------------------------------------------------------------------\u001b[0m",
      "\u001b[0;31mModuleNotFoundError\u001b[0m                       Traceback (most recent call last)",
      "\u001b[0;32m<ipython-input-1-df8f6159fee9>\u001b[0m in \u001b[0;36m<module>\u001b[0;34m\u001b[0m\n\u001b[1;32m      5\u001b[0m \u001b[0;32mfrom\u001b[0m \u001b[0msklearn\u001b[0m\u001b[0;34m.\u001b[0m\u001b[0mpreprocessing\u001b[0m \u001b[0;32mimport\u001b[0m \u001b[0mLabelEncoder\u001b[0m\u001b[0;34m,\u001b[0m \u001b[0mOneHotEncoder\u001b[0m\u001b[0;34m,\u001b[0m \u001b[0mStandardScaler\u001b[0m\u001b[0;34m\u001b[0m\u001b[0;34m\u001b[0m\u001b[0m\n\u001b[1;32m      6\u001b[0m \u001b[0;32mimport\u001b[0m \u001b[0mio\u001b[0m\u001b[0;34m\u001b[0m\u001b[0;34m\u001b[0m\u001b[0m\n\u001b[0;32m----> 7\u001b[0;31m \u001b[0;32mimport\u001b[0m \u001b[0mseaborn\u001b[0m \u001b[0;32mas\u001b[0m \u001b[0msns\u001b[0m\u001b[0;34m\u001b[0m\u001b[0;34m\u001b[0m\u001b[0m\n\u001b[0m\u001b[1;32m      8\u001b[0m \u001b[0;34m\u001b[0m\u001b[0m\n\u001b[1;32m      9\u001b[0m \u001b[0;32mfrom\u001b[0m \u001b[0mgoogle\u001b[0m\u001b[0;34m.\u001b[0m\u001b[0mcolab\u001b[0m \u001b[0;32mimport\u001b[0m \u001b[0mdrive\u001b[0m\u001b[0;34m\u001b[0m\u001b[0;34m\u001b[0m\u001b[0m\n",
      "\u001b[0;31mModuleNotFoundError\u001b[0m: No module named 'seaborn'"
     ]
    }
   ],
   "source": [
    "import pandas as pd\n",
    "import matplotlib.pyplot as plt \n",
    "import numpy as np\n",
    "from tqdm import tqdm_notebook as tqdm\n",
    "from sklearn.preprocessing import LabelEncoder, OneHotEncoder, StandardScaler\n",
    "import io\n",
    "import seaborn as sns \n",
    "\n",
    "from google.colab import drive\n",
    "drive.mount('/content/drive')\n",
    "df = pd.read_csv('/content/drive/My Drive/fer2013.csv')"
   ]
  },
  {
   "cell_type": "markdown",
   "metadata": {
    "colab_type": "text",
    "id": "NuoxujDdenWy"
   },
   "source": [
    "##### Import the data and examine the head of the dataframe #####\n",
    "###### We also clear the 'Disgust' emotion data ######"
   ]
  },
  {
   "cell_type": "code",
   "execution_count": 3,
   "metadata": {
    "colab": {
     "base_uri": "https://localhost:8080/",
     "height": 153
    },
    "colab_type": "code",
    "id": "wh3nm5hOenW1",
    "outputId": "b7c1acc4-b9f2-426f-bfa2-bcdf7f79593d"
   },
   "outputs": [
    {
     "name": "stdout",
     "output_type": "stream",
     "text": [
      "   emotion                                             pixels     Usage\n",
      "0        0  70 80 82 72 58 58 60 63 54 58 60 48 89 115 121...  Training\n",
      "1        0  151 150 147 155 148 133 111 140 170 174 182 15...  Training\n",
      "2        2  231 212 156 164 174 138 161 173 182 200 106 38...  Training\n",
      "3        4  24 32 36 30 32 23 19 20 30 41 21 22 32 34 21 1...  Training\n",
      "4        6  4 0 0 0 0 0 0 0 0 0 0 0 3 15 23 28 48 50 58 84...  Training\n",
      "\n",
      "Number of Observations: 35887\n"
     ]
    }
   ],
   "source": [
    "print(df.head())\n",
    "print()\n",
    "length = len(df)\n",
    "print(f\"Number of Observations: {length}\" )"
   ]
  },
  {
   "cell_type": "markdown",
   "metadata": {
    "colab_type": "text",
    "id": "iZUmTd6ZenW_"
   },
   "source": [
    "##### Examine observation count  grouped by category and null value count #####"
   ]
  },
  {
   "cell_type": "code",
   "execution_count": 4,
   "metadata": {
    "colab": {
     "base_uri": "https://localhost:8080/",
     "height": 531
    },
    "colab_type": "code",
    "id": "vTrKHA06enXA",
    "outputId": "1286e49f-f737-48d0-f6fc-0116adf5a1ea",
    "scrolled": false
   },
   "outputs": [
    {
     "name": "stdout",
     "output_type": "stream",
     "text": [
      "3    8989\n",
      "6    6198\n",
      "4    6077\n",
      "2    5121\n",
      "0    4953\n",
      "5    4002\n",
      "1     547\n",
      "Name: emotion, dtype: int64\n"
     ]
    },
    {
     "name": "stderr",
     "output_type": "stream",
     "text": [
      "/usr/local/lib/python3.6/dist-packages/seaborn/categorical.py:1428: FutureWarning: remove_na is deprecated and is a private function. Do not use.\n",
      "  stat_data = remove_na(group_data)\n"
     ]
    },
    {
     "data": {
      "image/png": "[encoded data removed]",
      "text/plain": [
       "<Figure size 576x396 with 1 Axes>"
      ]
     },
     "metadata": {
      "tags": []
     },
     "output_type": "display_data"
    }
   ],
   "source": [
    "graph = sns.countplot(df['emotion'])\n",
    "print(df.emotion.value_counts(sort=True))"
   ]
  },
  {
   "cell_type": "code",
   "execution_count": 5,
   "metadata": {
    "colab": {
     "base_uri": "https://localhost:8080/",
     "height": 85
    },
    "colab_type": "code",
    "id": "vy5rbB5JenXL",
    "outputId": "7688a881-4c76-4356-f3fa-110164ab15e1"
   },
   "outputs": [
    {
     "name": "stdout",
     "output_type": "stream",
     "text": [
      "emotion    0\n",
      "pixels     0\n",
      "Usage      0\n",
      "dtype: int64\n"
     ]
    }
   ],
   "source": [
    "# Check null values\n",
    "print(df.isnull().sum())\n",
    "df = df[df.emotion != 1].reset_index()"
   ]
  },
  {
   "cell_type": "markdown",
   "metadata": {
    "colab_type": "text",
    "id": "0h4qH1E-enXR"
   },
   "source": [
    "It is clear that we have very few obervations for emotion 1 (Disgust), this is something to be mindful of. It might be worth dropping this emotion from the dataset. \n",
    "<br> \n",
    "<br> \n",
    "The good news is that we have no null values! :-) \n",
    "<br> \n",
    "##### Examine the datatypes of the pandas dataframe #####"
   ]
  },
  {
   "cell_type": "code",
   "execution_count": 6,
   "metadata": {
    "colab": {
     "base_uri": "https://localhost:8080/",
     "height": 102
    },
    "colab_type": "code",
    "id": "srM0rGo8enXS",
    "outputId": "41c58b50-b105-4edc-c25c-34c2fb3ca074",
    "scrolled": true
   },
   "outputs": [
    {
     "data": {
      "text/plain": [
       "index       int64\n",
       "emotion     int64\n",
       "pixels     object\n",
       "Usage      object\n",
       "dtype: object"
      ]
     },
     "execution_count": 6,
     "metadata": {
      "tags": []
     },
     "output_type": "execute_result"
    }
   ],
   "source": [
    "df.dtypes"
   ]
  },
  {
   "cell_type": "markdown",
   "metadata": {
    "colab_type": "text",
    "id": "YieZbN07enXW"
   },
   "source": [
    "<font color=B22222>**This has presented a problem, our pixel data, which should be a list of intergers is actually a pandas 'object' datatype. This is equivalent to a python string datatype and will not work with machine learning algorithms.**</font>\n",
    "<br>\n",
    "<br>\n",
    "Below we create a format function to convert this column of space-seperated strings to lists of intergers. This new data is used to create a new `pixel_formatted` dataframe column."
   ]
  },
  {
   "cell_type": "code",
   "execution_count": 0,
   "metadata": {
    "colab": {},
    "colab_type": "code",
    "id": "Sdl34gpOenXX"
   },
   "outputs": [],
   "source": [
    "scaler = StandardScaler()\n",
    "\n",
    "def format(index):\n",
    "    elem = [int(s) for s in df['pixels'][index].split(' ')]\n",
    "    return elem"
   ]
  },
  {
   "cell_type": "code",
   "execution_count": 8,
   "metadata": {
    "colab": {
     "base_uri": "https://localhost:8080/",
     "height": 151
    },
    "colab_type": "code",
    "id": "wkrHjX6nenXa",
    "outputId": "a61b6f35-516c-4463-f08c-9cd29c9bb34c",
    "scrolled": true
   },
   "outputs": [
    {
     "data": {
      "application/vnd.jupyter.widget-view+json": {
       "model_id": "4b69fdb4315d44ab8576911c62731206",
       "version_major": 2,
       "version_minor": 0
      },
      "text/plain": [
       "HBox(children=(IntProgress(value=0, max=35340), HTML(value='')))"
      ]
     },
     "metadata": {
      "tags": []
     },
     "output_type": "display_data"
    },
    {
     "name": "stderr",
     "output_type": "stream",
     "text": [
      "/usr/local/lib/python3.6/dist-packages/sklearn/utils/validation.py:595: DataConversionWarning: Data with input dtype int64 was converted to float64 by StandardScaler.\n",
      "  warnings.warn(msg, DataConversionWarning)\n",
      "/usr/local/lib/python3.6/dist-packages/sklearn/utils/validation.py:595: DataConversionWarning: Data with input dtype int64 was converted to float64 by StandardScaler.\n",
      "  warnings.warn(msg, DataConversionWarning)\n"
     ]
    },
    {
     "name": "stdout",
     "output_type": "stream",
     "text": [
      "\n"
     ]
    }
   ],
   "source": [
    "arr = []\n",
    "\n",
    "for i in tqdm(range(35340)):\n",
    "    arr.append(format(i))\n",
    "    \n",
    "np_arr = np.asarray(arr)\n",
    "standard_arr =  scaler.fit_transform(np_arr)\n",
    "df['formatted_pixels'] = arr"
   ]
  },
  {
   "cell_type": "markdown",
   "metadata": {
    "colab_type": "text",
    "id": "ycx-P6FdenXe"
   },
   "source": [
    "##### Remove the original `pixels` and `Usage` columns #####"
   ]
  },
  {
   "cell_type": "code",
   "execution_count": 0,
   "metadata": {
    "colab": {},
    "colab_type": "code",
    "id": "KjVpRougenXf"
   },
   "outputs": [],
   "source": [
    "df.drop(['pixels', 'Usage'], axis=1, inplace=True)"
   ]
  },
  {
   "cell_type": "code",
   "execution_count": 10,
   "metadata": {
    "colab": {
     "base_uri": "https://localhost:8080/",
     "height": 204
    },
    "colab_type": "code",
    "id": "t53xd3D-enXh",
    "outputId": "3668a32b-e467-491b-9cad-186642936739"
   },
   "outputs": [
    {
     "data": {
      "text/html": [
       "<div>\n",
       "<style scoped>\n",
       "    .dataframe tbody tr th:only-of-type {\n",
       "        vertical-align: middle;\n",
       "    }\n",
       "\n",
       "    .dataframe tbody tr th {\n",
       "        vertical-align: top;\n",
       "    }\n",
       "\n",
       "    .dataframe thead th {\n",
       "        text-align: right;\n",
       "    }\n",
       "</style>\n",
       "<table border=\"1\" class=\"dataframe\">\n",
       "  <thead>\n",
       "    <tr style=\"text-align: right;\">\n",
       "      <th></th>\n",
       "      <th>index</th>\n",
       "      <th>emotion</th>\n",
       "      <th>formatted_pixels</th>\n",
       "    </tr>\n",
       "  </thead>\n",
       "  <tbody>\n",
       "    <tr>\n",
       "      <th>0</th>\n",
       "      <td>0</td>\n",
       "      <td>0</td>\n",
       "      <td>[70, 80, 82, 72, 58, 58, 60, 63, 54, 58, 60, 4...</td>\n",
       "    </tr>\n",
       "    <tr>\n",
       "      <th>1</th>\n",
       "      <td>1</td>\n",
       "      <td>0</td>\n",
       "      <td>[151, 150, 147, 155, 148, 133, 111, 140, 170, ...</td>\n",
       "    </tr>\n",
       "    <tr>\n",
       "      <th>2</th>\n",
       "      <td>2</td>\n",
       "      <td>2</td>\n",
       "      <td>[231, 212, 156, 164, 174, 138, 161, 173, 182, ...</td>\n",
       "    </tr>\n",
       "    <tr>\n",
       "      <th>3</th>\n",
       "      <td>3</td>\n",
       "      <td>4</td>\n",
       "      <td>[24, 32, 36, 30, 32, 23, 19, 20, 30, 41, 21, 2...</td>\n",
       "    </tr>\n",
       "    <tr>\n",
       "      <th>4</th>\n",
       "      <td>4</td>\n",
       "      <td>6</td>\n",
       "      <td>[4, 0, 0, 0, 0, 0, 0, 0, 0, 0, 0, 0, 3, 15, 23...</td>\n",
       "    </tr>\n",
       "  </tbody>\n",
       "</table>\n",
       "</div>"
      ],
      "text/plain": [
       "   index  emotion                                   formatted_pixels\n",
       "0      0        0  [70, 80, 82, 72, 58, 58, 60, 63, 54, 58, 60, 4...\n",
       "1      1        0  [151, 150, 147, 155, 148, 133, 111, 140, 170, ...\n",
       "2      2        2  [231, 212, 156, 164, 174, 138, 161, 173, 182, ...\n",
       "3      3        4  [24, 32, 36, 30, 32, 23, 19, 20, 30, 41, 21, 2...\n",
       "4      4        6  [4, 0, 0, 0, 0, 0, 0, 0, 0, 0, 0, 0, 3, 15, 23..."
      ]
     },
     "execution_count": 10,
     "metadata": {
      "tags": []
     },
     "output_type": "execute_result"
    }
   ],
   "source": [
    "df.head()"
   ]
  },
  {
   "cell_type": "markdown",
   "metadata": {
    "colab_type": "text",
    "id": "1xCvkW6oenXm"
   },
   "source": [
    "##### Explore the images by visualising 6 random images ##### "
   ]
  },
  {
   "cell_type": "code",
   "execution_count": 11,
   "metadata": {
    "colab": {
     "base_uri": "https://localhost:8080/",
     "height": 597
    },
    "colab_type": "code",
    "id": "5z0CsO6henXn",
    "outputId": "e3f8ff48-4e7d-4e3f-89f5-e504ed396eea",
    "scrolled": true
   },
   "outputs": [
    {
     "data": {
      "image/png": "[encoded data removed]",
      "text/plain": [
       "<Figure size 720x720 with 6 Axes>"
      ]
     },
     "metadata": {
      "tags": []
     },
     "output_type": "display_data"
    }
   ],
   "source": [
    "nrows, ncols = 2, 3 \n",
    "figsize = [10, 10]     \n",
    "\n",
    "fig, ax = plt.subplots(nrows=nrows, ncols=ncols, figsize=figsize)\n",
    "\n",
    "counter = 0 \n",
    "for i, axi in enumerate(ax.flat):\n",
    "    img = standard_arr[counter].reshape(48,48)\n",
    "    axi.imshow(img)\n",
    "    rowid = i // ncols\n",
    "    colid = i % ncols\n",
    "    axi.set_title(\"Emotion:\"+str(df['emotion'][counter]))\n",
    "    counter += 1 \n",
    "\n",
    "plt.tight_layout(True)\n",
    "plt.show()"
   ]
  },
  {
   "cell_type": "markdown",
   "metadata": {
    "colab_type": "text",
    "id": "jrOK5Bg6enXs"
   },
   "source": [
    "##### Now we are happy with our image data, we must One-Hot Encode out lables #####"
   ]
  },
  {
   "cell_type": "code",
   "execution_count": 12,
   "metadata": {
    "colab": {
     "base_uri": "https://localhost:8080/",
     "height": 51
    },
    "colab_type": "code",
    "id": "09S4iUAoenXu",
    "outputId": "7c19b353-41c9-4bdf-9a93-3a3f1d22dca8",
    "scrolled": false
   },
   "outputs": [
    {
     "name": "stdout",
     "output_type": "stream",
     "text": [
      "The shape of the onehot labels is: (35340, 6)\n"
     ]
    },
    {
     "data": {
      "application/vnd.jupyter.widget-view+json": {
       "model_id": "7b9bf4a6e04d45c0bd0dfdb0a1642ae6",
       "version_major": 2,
       "version_minor": 0
      },
      "text/plain": [
       "HBox(children=(IntProgress(value=0, max=35340), HTML(value='')))"
      ]
     },
     "metadata": {
      "tags": []
     },
     "output_type": "display_data"
    },
    {
     "name": "stdout",
     "output_type": "stream",
     "text": [
      "\n"
     ]
    }
   ],
   "source": [
    "ohe = OneHotEncoder(sparse=False, categories='auto')\n",
    "onehotlabels = ohe.fit_transform(np.asarray(df['emotion']).reshape(-1,1))\n",
    "shape = onehotlabels.shape\n",
    "print(f\"The shape of the onehot labels is: {shape}\")\n",
    "\n",
    "new_arr = [] \n",
    "for s in tqdm(standard_arr):\n",
    "    new_arr.append(s.reshape(48,48,1))\n",
    "    "
   ]
  },
  {
   "cell_type": "markdown",
   "metadata": {
    "colab_type": "text",
    "id": "aAJVnzKPenXz"
   },
   "source": [
    "##### Check that the pixel data now represents 35340 images of 48x48 pixels #####"
   ]
  },
  {
   "cell_type": "code",
   "execution_count": 13,
   "metadata": {
    "colab": {
     "base_uri": "https://localhost:8080/",
     "height": 34
    },
    "colab_type": "code",
    "id": "ax2zFLDsenX0",
    "outputId": "3f0131ce-e6fc-4297-babe-92b8b66bcb2f"
   },
   "outputs": [
    {
     "name": "stdout",
     "output_type": "stream",
     "text": [
      "The shape of the pixel data matrix is: (35340, 48, 48, 1)\n"
     ]
    }
   ],
   "source": [
    "shape = np.asarray(new_arr).shape\n",
    "print(f\"The shape of the pixel data matrix is: {shape}\")"
   ]
  },
  {
   "cell_type": "markdown",
   "metadata": {
    "colab_type": "text",
    "id": "2FRJrUIYenX5"
   },
   "source": [
    "##### Examine the first two One-Hot Labels and check that shape of the label array #####"
   ]
  },
  {
   "cell_type": "code",
   "execution_count": 14,
   "metadata": {
    "colab": {
     "base_uri": "https://localhost:8080/",
     "height": 85
    },
    "colab_type": "code",
    "id": "-LagtdmYenX6",
    "outputId": "a143fa5f-e1e0-4390-996e-df21595a8d6a"
   },
   "outputs": [
    {
     "name": "stdout",
     "output_type": "stream",
     "text": [
      "[[1. 0. 0. 0. 0. 0.]\n",
      " [1. 0. 0. 0. 0. 0.]]\n",
      "\n",
      "The shape of the label matrix is: (35340, 6)\n"
     ]
    }
   ],
   "source": [
    "print(onehotlabels[:2])\n",
    "print()\n",
    "shape = np.asarray(onehotlabels).shape\n",
    "print(f\"The shape of the label matrix is: {shape}\")"
   ]
  },
  {
   "cell_type": "markdown",
   "metadata": {
    "colab_type": "text",
    "id": "lm9ZCggfenX-"
   },
   "source": [
    "##### Both the input data and the labels have the same shape, so we can split our data into a training set and a testing set #####"
   ]
  },
  {
   "cell_type": "code",
   "execution_count": 0,
   "metadata": {
    "colab": {},
    "colab_type": "code",
    "id": "UHceftaxenX-"
   },
   "outputs": [],
   "source": [
    "from sklearn.model_selection import train_test_split"
   ]
  },
  {
   "cell_type": "code",
   "execution_count": 0,
   "metadata": {
    "colab": {},
    "colab_type": "code",
    "id": "0-vd7DZIenYA"
   },
   "outputs": [],
   "source": [
    "#Slightly unbalanced => stratify = True\n",
    "X_train, X_test, y_train, y_test = train_test_split(np.asarray(new_arr), onehotlabels, test_size=0.33, random_state=42)"
   ]
  },
  {
   "cell_type": "code",
   "execution_count": 17,
   "metadata": {
    "colab": {
     "base_uri": "https://localhost:8080/",
     "height": 51
    },
    "colab_type": "code",
    "id": "0xp2nzxpenYB",
    "outputId": "826d98e1-2023-413a-9984-00ff36dacd7f"
   },
   "outputs": [
    {
     "name": "stdout",
     "output_type": "stream",
     "text": [
      "The shape of the training pixel data is (23677, 48, 48, 1)\n",
      "The shape of the training label data is (23677, 6)\n"
     ]
    }
   ],
   "source": [
    "X_train_shape, y_train_shape = X_train.shape, y_train.shape\n",
    "print(f\"The shape of the training pixel data is {X_train_shape}\")\n",
    "print(f\"The shape of the training label data is {y_train_shape}\")"
   ]
  },
  {
   "cell_type": "markdown",
   "metadata": {
    "colab_type": "text",
    "id": "SWuykiiUenYE"
   },
   "source": [
    "# CNN #"
   ]
  },
  {
   "cell_type": "code",
   "execution_count": 18,
   "metadata": {
    "colab": {
     "base_uri": "https://localhost:8080/",
     "height": 125
    },
    "colab_type": "code",
    "id": "8LwDW6dkenYF",
    "outputId": "51e8815a-263d-45ca-89c9-4da6b7bbb299"
   },
   "outputs": [
    {
     "name": "stderr",
     "output_type": "stream",
     "text": [
      "Using TensorFlow backend.\n"
     ]
    },
    {
     "name": "stdout",
     "output_type": "stream",
     "text": [
      "WARNING:tensorflow:From /usr/local/lib/python3.6/dist-packages/tensorflow/python/framework/op_def_library.py:263: colocate_with (from tensorflow.python.framework.ops) is deprecated and will be removed in a future version.\n",
      "Instructions for updating:\n",
      "Colocations handled automatically by placer.\n"
     ]
    }
   ],
   "source": [
    "from keras.models import Sequential\n",
    "from keras.layers import Dense, Conv2D, Flatten\n",
    "\n",
    "model = Sequential()\n",
    "#add model layers\n",
    "model.add(Conv2D(32, kernel_size=3, activation='relu', input_shape=(48,48,1)))\n",
    "model.add(Conv2D(32, kernel_size=3, activation='relu'))\n",
    "model.add(Flatten())\n",
    "model.add(Dense(6, activation='softmax'))\n",
    "\n",
    "model.compile(optimizer='adam', loss='categorical_crossentropy', metrics=['accuracy'])"
   ]
  },
  {
   "cell_type": "code",
   "execution_count": 19,
   "metadata": {
    "colab": {
     "base_uri": "https://localhost:8080/",
     "height": 1020
    },
    "colab_type": "code",
    "id": "pZ0wvOBmenYG",
    "outputId": "46b9c66a-cdb5-4246-cb90-85915c2a2e2f"
   },
   "outputs": [
    {
     "name": "stdout",
     "output_type": "stream",
     "text": [
      "WARNING:tensorflow:From /usr/local/lib/python3.6/dist-packages/tensorflow/python/ops/math_ops.py:3066: to_int32 (from tensorflow.python.ops.math_ops) is deprecated and will be removed in a future version.\n",
      "Instructions for updating:\n",
      "Use tf.cast instead.\n",
      "Train on 23677 samples, validate on 11663 samples\n",
      "Epoch 1/10\n",
      "23677/23677 [==============================] - 10s 406us/step - loss: 1.5058 - acc: 0.4062 - val_loss: 1.3828 - val_acc: 0.4627\n",
      "Epoch 2/10\n",
      "23677/23677 [==============================] - 5s 195us/step - loss: 1.1965 - acc: 0.5484 - val_loss: 1.3688 - val_acc: 0.4817\n",
      "Epoch 3/10\n",
      "23677/23677 [==============================] - 5s 196us/step - loss: 0.8837 - acc: 0.6792 - val_loss: 1.4803 - val_acc: 0.4859\n",
      "Epoch 4/10\n",
      "23677/23677 [==============================] - 5s 193us/step - loss: 0.5251 - acc: 0.8170 - val_loss: 1.8335 - val_acc: 0.4717\n",
      "Epoch 5/10\n",
      "23677/23677 [==============================] - 5s 193us/step - loss: 0.2644 - acc: 0.9168 - val_loss: 2.4971 - val_acc: 0.4561\n",
      "Epoch 6/10\n",
      "23677/23677 [==============================] - 5s 194us/step - loss: 0.1386 - acc: 0.9653 - val_loss: 2.9827 - val_acc: 0.4574\n",
      "Epoch 7/10\n",
      "23677/23677 [==============================] - 5s 194us/step - loss: 0.0894 - acc: 0.9820 - val_loss: 3.3254 - val_acc: 0.4580\n",
      "Epoch 8/10\n",
      "23677/23677 [==============================] - 5s 194us/step - loss: 0.0728 - acc: 0.9869 - val_loss: 3.5431 - val_acc: 0.4417\n",
      "Epoch 9/10\n",
      "23677/23677 [==============================] - 5s 196us/step - loss: 0.0729 - acc: 0.9851 - val_loss: 3.6838 - val_acc: 0.4563\n",
      "Epoch 10/10\n",
      "23677/23677 [==============================] - 5s 195us/step - loss: 0.0714 - acc: 0.9850 - val_loss: 4.1775 - val_acc: 0.4524\n"
     ]
    },
    {
     "data": {
      "text/plain": [
       "<keras.callbacks.History at 0x7f1aecbac908>"
      ]
     },
     "execution_count": 19,
     "metadata": {
      "tags": []
     },
     "output_type": "execute_result"
    }
   ],
   "source": [
    "model.fit(X_train, y_train, validation_data=(X_test, y_test), epochs=10)"
   ]
  },
  {
   "cell_type": "code",
   "execution_count": 20,
   "metadata": {
    "colab": {
     "base_uri": "https://localhost:8080/",
     "height": 272
    },
    "colab_type": "code",
    "id": "_DE9NQawenYK",
    "outputId": "d48c79bb-a0d1-4ad0-dbc4-084ed502f5c4"
   },
   "outputs": [
    {
     "name": "stdout",
     "output_type": "stream",
     "text": [
      "_________________________________________________________________\n",
      "Layer (type)                 Output Shape              Param #   \n",
      "=================================================================\n",
      "conv2d_1 (Conv2D)            (None, 46, 46, 32)        320       \n",
      "_________________________________________________________________\n",
      "conv2d_2 (Conv2D)            (None, 44, 44, 32)        9248      \n",
      "_________________________________________________________________\n",
      "flatten_1 (Flatten)          (None, 61952)             0         \n",
      "_________________________________________________________________\n",
      "dense_1 (Dense)              (None, 6)                 371718    \n",
      "=================================================================\n",
      "Total params: 381,286\n",
      "Trainable params: 381,286\n",
      "Non-trainable params: 0\n",
      "_________________________________________________________________\n"
     ]
    }
   ],
   "source": [
    "model.summary()"
   ]
  },
  {
   "cell_type": "code",
   "execution_count": 0,
   "metadata": {
    "colab": {},
    "colab_type": "code",
    "id": "XqNdVNvcenYN"
   },
   "outputs": [],
   "source": []
  },
  {
   "cell_type": "code",
   "execution_count": 0,
   "metadata": {
    "colab": {},
    "colab_type": "code",
    "id": "3lV6bNFSenYR"
   },
   "outputs": [],
   "source": []
  },
  {
   "cell_type": "code",
   "execution_count": 0,
   "metadata": {
    "colab": {},
    "colab_type": "code",
    "id": "MtuQtSOaenYU"
   },
   "outputs": [],
   "source": []
  }
 ],
 "metadata": {
  "accelerator": "GPU",
  "colab": {
   "include_colab_link": true,
   "name": "Copy of Datapreprocessing_1.ipynb",
   "provenance": [],
   "version": "0.3.2"
  },
  "kernelspec": {
   "display_name": "Python 3",
   "language": "python",
   "name": "python3"
  },
  "language_info": {
   "codemirror_mode": {
    "name": "ipython",
    "version": 3
   },
   "file_extension": ".py",
   "mimetype": "text/x-python",
   "name": "python",
   "nbconvert_exporter": "python",
   "pygments_lexer": "ipython3",
   "version": "3.7.3"
  }
 },
 "nbformat": 4,
 "nbformat_minor": 1
}
